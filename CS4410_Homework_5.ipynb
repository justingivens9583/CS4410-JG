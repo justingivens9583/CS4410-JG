{
  "nbformat": 4,
  "nbformat_minor": 0,
  "metadata": {
    "colab": {
      "provenance": [],
      "authorship_tag": "ABX9TyMZJHcoVsFBwJVZGwYK4zc/",
      "include_colab_link": true
    },
    "kernelspec": {
      "name": "python3",
      "display_name": "Python 3"
    },
    "language_info": {
      "name": "python"
    }
  },
  "cells": [
    {
      "cell_type": "markdown",
      "metadata": {
        "id": "view-in-github",
        "colab_type": "text"
      },
      "source": [
        "<a href=\"https://colab.research.google.com/github/justingivens9583/CS4410-JG/blob/master/CS4410_Homework_5.ipynb\" target=\"_parent\"><img src=\"https://colab.research.google.com/assets/colab-badge.svg\" alt=\"Open In Colab\"/></a>"
      ]
    },
    {
      "cell_type": "markdown",
      "source": [
        "#Homework 5\n",
        "\n"
      ],
      "metadata": {
        "id": "0uV1H3FtAqep"
      }
    },
    {
      "cell_type": "markdown",
      "source": [
        "##**Part 1**"
      ],
      "metadata": {
        "id": "WurlQHb6AxmG"
      }
    },
    {
      "cell_type": "markdown",
      "source": [
        "###Import modules"
      ],
      "metadata": {
        "id": "dkzSwwwxFTDK"
      }
    },
    {
      "cell_type": "code",
      "execution_count": 1,
      "metadata": {
        "id": "pCDnwZz5AFzn"
      },
      "outputs": [],
      "source": [
        "import numpy as np\n",
        "import pandas as pd\n",
        "import matplotlib.pyplot as plt\n",
        "from sklearn.datasets import load_iris\n",
        "from sklearn.cluster import KMeans"
      ]
    },
    {
      "cell_type": "markdown",
      "source": [
        "###Loading the Dataset"
      ],
      "metadata": {
        "id": "mpNFViCiFb-I"
      }
    },
    {
      "cell_type": "code",
      "source": [
        "iris = load_iris()\n",
        "X = iris.data"
      ],
      "metadata": {
        "id": "c9UahiR_FkXL"
      },
      "execution_count": 2,
      "outputs": []
    },
    {
      "cell_type": "markdown",
      "source": [
        "###Range of K values to test"
      ],
      "metadata": {
        "id": "gDW9O_MdF3q8"
      }
    },
    {
      "cell_type": "code",
      "source": [
        "wcss = []\n",
        "K_range = range(1, 10)"
      ],
      "metadata": {
        "id": "eR0TOW7EF6sD"
      },
      "execution_count": 3,
      "outputs": []
    },
    {
      "cell_type": "markdown",
      "source": [
        "###Perform K-means for each K and store the WCSS"
      ],
      "metadata": {
        "id": "0gTGJC5lGMmJ"
      }
    },
    {
      "cell_type": "code",
      "source": [
        "for k in K_range:\n",
        "    kmeans = KMeans(n_clusters=k, init='k-means++', random_state=11)\n",
        "    kmeans.fit(X)\n",
        "    wcss.append(kmeans.inertia_)"
      ],
      "metadata": {
        "colab": {
          "base_uri": "https://localhost:8080/"
        },
        "id": "KXIJA4OfGSku",
        "outputId": "80da50a6-178e-4df7-be80-74ac89235f7b"
      },
      "execution_count": 4,
      "outputs": [
        {
          "output_type": "stream",
          "name": "stderr",
          "text": [
            "/usr/local/lib/python3.10/dist-packages/sklearn/cluster/_kmeans.py:1416: FutureWarning: The default value of `n_init` will change from 10 to 'auto' in 1.4. Set the value of `n_init` explicitly to suppress the warning\n",
            "  super()._check_params_vs_input(X, default_n_init=10)\n",
            "/usr/local/lib/python3.10/dist-packages/sklearn/cluster/_kmeans.py:1416: FutureWarning: The default value of `n_init` will change from 10 to 'auto' in 1.4. Set the value of `n_init` explicitly to suppress the warning\n",
            "  super()._check_params_vs_input(X, default_n_init=10)\n",
            "/usr/local/lib/python3.10/dist-packages/sklearn/cluster/_kmeans.py:1416: FutureWarning: The default value of `n_init` will change from 10 to 'auto' in 1.4. Set the value of `n_init` explicitly to suppress the warning\n",
            "  super()._check_params_vs_input(X, default_n_init=10)\n",
            "/usr/local/lib/python3.10/dist-packages/sklearn/cluster/_kmeans.py:1416: FutureWarning: The default value of `n_init` will change from 10 to 'auto' in 1.4. Set the value of `n_init` explicitly to suppress the warning\n",
            "  super()._check_params_vs_input(X, default_n_init=10)\n",
            "/usr/local/lib/python3.10/dist-packages/sklearn/cluster/_kmeans.py:1416: FutureWarning: The default value of `n_init` will change from 10 to 'auto' in 1.4. Set the value of `n_init` explicitly to suppress the warning\n",
            "  super()._check_params_vs_input(X, default_n_init=10)\n",
            "/usr/local/lib/python3.10/dist-packages/sklearn/cluster/_kmeans.py:1416: FutureWarning: The default value of `n_init` will change from 10 to 'auto' in 1.4. Set the value of `n_init` explicitly to suppress the warning\n",
            "  super()._check_params_vs_input(X, default_n_init=10)\n",
            "/usr/local/lib/python3.10/dist-packages/sklearn/cluster/_kmeans.py:1416: FutureWarning: The default value of `n_init` will change from 10 to 'auto' in 1.4. Set the value of `n_init` explicitly to suppress the warning\n",
            "  super()._check_params_vs_input(X, default_n_init=10)\n",
            "/usr/local/lib/python3.10/dist-packages/sklearn/cluster/_kmeans.py:1416: FutureWarning: The default value of `n_init` will change from 10 to 'auto' in 1.4. Set the value of `n_init` explicitly to suppress the warning\n",
            "  super()._check_params_vs_input(X, default_n_init=10)\n",
            "/usr/local/lib/python3.10/dist-packages/sklearn/cluster/_kmeans.py:1416: FutureWarning: The default value of `n_init` will change from 10 to 'auto' in 1.4. Set the value of `n_init` explicitly to suppress the warning\n",
            "  super()._check_params_vs_input(X, default_n_init=10)\n"
          ]
        }
      ]
    },
    {
      "cell_type": "markdown",
      "source": [
        "###Plotting the Graph"
      ],
      "metadata": {
        "id": "rIXr0BvpHWqP"
      }
    },
    {
      "cell_type": "code",
      "source": [
        "plt.figure(figsize=(8, 5))\n",
        "plt.plot(K_range, wcss, marker='o', linestyle='--')\n",
        "plt.title('Elbow Method for Optimal K')\n",
        "plt.xlabel('Number of clusters (K)')\n",
        "plt.ylabel('WCSS')\n",
        "plt.show()"
      ],
      "metadata": {
        "colab": {
          "base_uri": "https://localhost:8080/",
          "height": 487
        },
        "id": "azheUF8lHjIl",
        "outputId": "14a81001-b0d6-4948-f860-ff5706666a2e"
      },
      "execution_count": 5,
      "outputs": [
        {
          "output_type": "display_data",
          "data": {
            "text/plain": [
              "<Figure size 800x500 with 1 Axes>"
            ],
            "image/png": "[encoded data removed]"
          },
          "metadata": {}
        }
      ]
    },
    {
      "cell_type": "markdown",
      "source": [
        "##**Part 2**"
      ],
      "metadata": {
        "id": "yZlWKNQWIfX4"
      }
    },
    {
      "cell_type": "markdown",
      "source": [
        "###Importing modules"
      ],
      "metadata": {
        "id": "9-2iunPUIiwR"
      }
    },
    {
      "cell_type": "code",
      "source": [
        "import numpy as np\n",
        "import pandas as pd\n",
        "import time\n",
        "from sklearn.datasets import fetch_openml\n",
        "from sklearn.model_selection import train_test_split\n",
        "from sklearn.preprocessing import StandardScaler\n",
        "from sklearn.decomposition import PCA\n",
        "from sklearn.linear_model import LogisticRegression\n",
        "from sklearn.metrics import accuracy_score"
      ],
      "metadata": {
        "id": "Z1IFwXf5TEAC"
      },
      "execution_count": 6,
      "outputs": []
    },
    {
      "cell_type": "markdown",
      "source": [
        "###Loading the dataset"
      ],
      "metadata": {
        "id": "zc3UZwWFTIc7"
      }
    },
    {
      "cell_type": "code",
      "source": [
        "X, y = fetch_openml('mnist_784', version=1, return_X_y=True)"
      ],
      "metadata": {
        "colab": {
          "base_uri": "https://localhost:8080/"
        },
        "id": "x-LxzTzGTdLd",
        "outputId": "b4e0caa5-069b-43d9-b039-d2f8126e7643"
      },
      "execution_count": 10,
      "outputs": [
        {
          "output_type": "stream",
          "name": "stderr",
          "text": [
            "/usr/local/lib/python3.10/dist-packages/sklearn/datasets/_openml.py:1022: FutureWarning: The default value of `parser` will change from `'liac-arff'` to `'auto'` in 1.4. You can set `parser='auto'` to silence this warning. Therefore, an `ImportError` will be raised from 1.4 if the dataset is dense and pandas is not installed. Note that the pandas parser may return different data types. See the Notes Section in fetch_openml's API doc for details.\n",
            "  warn(\n"
          ]
        }
      ]
    },
    {
      "cell_type": "markdown",
      "source": [
        "###Split the data into training and testing sets"
      ],
      "metadata": {
        "id": "3hJJhWukUWo8"
      }
    },
    {
      "cell_type": "code",
      "source": [
        "X_train, X_test, y_train, y_test = train_test_split(X, y, test_size=0.2, random_state=11)"
      ],
      "metadata": {
        "id": "OZ7QHl4_WMPm"
      },
      "execution_count": 11,
      "outputs": []
    },
    {
      "cell_type": "markdown",
      "source": [
        "###Applying StandardScaler"
      ],
      "metadata": {
        "id": "ULKDEINiWSPd"
      }
    },
    {
      "cell_type": "code",
      "source": [
        "scaler = StandardScaler()\n",
        "X_train_scaled = scaler.fit_transform(X_train)\n",
        "X_test_scaled = scaler.transform(X_test)"
      ],
      "metadata": {
        "id": "rKlssuUTWXkr"
      },
      "execution_count": 12,
      "outputs": []
    },
    {
      "cell_type": "markdown",
      "source": [
        "###Logistic Regression without PCA"
      ],
      "metadata": {
        "id": "1vyzyR6bWabI"
      }
    },
    {
      "cell_type": "code",
      "source": [
        "start_time = time.time()\n",
        "logisticRegr = LogisticRegression(solver='lbfgs', max_iter=1000)\n",
        "logisticRegr.fit(X_train_scaled, y_train)\n",
        "y_pred = logisticRegr.predict(X_test_scaled)\n",
        "accuracy_without_pca = accuracy_score(y_test, y_pred)\n",
        "time_without_pca = time.time() - start_time"
      ],
      "metadata": {
        "id": "WaYaEuhkWx0w"
      },
      "execution_count": 13,
      "outputs": []
    },
    {
      "cell_type": "markdown",
      "source": [
        "###Logistic Regression with PCA"
      ],
      "metadata": {
        "id": "NDZuHQqBYBbR"
      }
    },
    {
      "cell_type": "code",
      "source": [
        "pca = PCA(0.95)\n",
        "X_train_pca = pca.fit_transform(X_train_scaled)\n",
        "X_test_pca = pca.transform(X_test_scaled)\n",
        "\n",
        "start_time = time.time()\n",
        "logisticRegr_pca = LogisticRegression(solver='lbfgs', max_iter=1000)\n",
        "logisticRegr_pca.fit(X_train_pca, y_train)\n",
        "y_pred_pca = logisticRegr_pca.predict(X_test_pca)\n",
        "accuracy_with_pca = accuracy_score(y_test, y_pred_pca)\n",
        "time_with_pca = time.time() - start_time"
      ],
      "metadata": {
        "id": "Y3UFDkNdYGuS"
      },
      "execution_count": 14,
      "outputs": []
    },
    {
      "cell_type": "markdown",
      "source": [
        "###Comparing Results"
      ],
      "metadata": {
        "id": "KC6Esal9Y1tR"
      }
    },
    {
      "cell_type": "code",
      "source": [
        "print(f\"Accuracy without PCA: {accuracy_without_pca}\")\n",
        "print(f\"Time without PCA: {time_without_pca} seconds\")\n",
        "\n",
        "print(f\"Accuracy with PCA: {accuracy_with_pca}\")\n",
        "print(f\"Time with PCA: {time_with_pca} seconds\")"
      ],
      "metadata": {
        "id": "FJR6w0StY3tU",
        "outputId": "b521b56c-867e-4c69-a389-d5ea4f0daec0",
        "colab": {
          "base_uri": "https://localhost:8080/"
        }
      },
      "execution_count": 15,
      "outputs": [
        {
          "output_type": "stream",
          "name": "stdout",
          "text": [
            "Accuracy without PCA: 0.9132857142857143\n",
            "Time without PCA: 269.0629253387451 seconds\n",
            "Accuracy with PCA: 0.9213571428571429\n",
            "Time with PCA: 115.08117747306824 seconds\n"
          ]
        }
      ]
    }
  ]
}